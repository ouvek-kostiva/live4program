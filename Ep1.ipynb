{
 "cells": [
  {
   "cell_type": "markdown",
   "metadata": {},
   "source": [
    "## print()\n",
    "\n",
    "#### Ctrl + S 儲存\n",
    "#### Ctrl + Enter 執行"
   ]
  },
  {
   "cell_type": "code",
   "execution_count": 2,
   "metadata": {
    "collapsed": false
   },
   "outputs": [
    {
     "name": "stdout",
     "output_type": "stream",
     "text": [
      "Hello World!\n"
     ]
    }
   ],
   "source": [
    "print(\"Hello World!\")"
   ]
  },
  {
   "cell_type": "markdown",
   "metadata": {},
   "source": [
    "## 算數 * / % + -\n",
    "## 比較 <= < > >= == !="
   ]
  },
  {
   "cell_type": "code",
   "execution_count": 4,
   "metadata": {
    "collapsed": false,
    "scrolled": true
   },
   "outputs": [
    {
     "name": "stdout",
     "output_type": "stream",
     "text": [
      "3\n",
      "-1\n",
      "2\n",
      "0.5\n",
      "1\n",
      "True\n",
      "True\n",
      "False\n",
      "False\n",
      "False\n",
      "True\n"
     ]
    }
   ],
   "source": [
    "print(1 + 2)\n",
    "print(1 - 2)\n",
    "print(1 * 2)\n",
    "print(1 / 2)\n",
    "print(1 % 2)\n",
    "\n",
    "print(1 <= 2)\n",
    "print(1 < 2)\n",
    "print(1 >= 2)\n",
    "print(1 > 2)\n",
    "print(1 == 2)\n",
    "print(1 != 2)"
   ]
  },
  {
   "cell_type": "markdown",
   "metadata": {},
   "source": [
    "## 變數\n",
    "## _\n",
    "## thisThing"
   ]
  },
  {
   "cell_type": "code",
   "execution_count": 10,
   "metadata": {
    "collapsed": false
   },
   "outputs": [
    {
     "name": "stdout",
     "output_type": "stream",
     "text": [
      "1\n",
      "2\n",
      "3\n",
      "-1\n",
      "2\n",
      "0.5\n",
      "False\n",
      "True\n",
      "False\n",
      "True\n"
     ]
    }
   ],
   "source": [
    "aa = 1\n",
    "b = 2\n",
    "\n",
    "print(aa)\n",
    "print(b)\n",
    "print(aa+b)\n",
    "print(aa-b)\n",
    "print(aa*b)\n",
    "print(aa/b)\n",
    "print(aa>b)\n",
    "print(aa<b)\n",
    "print(aa==b)\n",
    "print(aa!=b)"
   ]
  },
  {
   "cell_type": "markdown",
   "metadata": {},
   "source": [
    "## 資料型別\n",
    "\n",
    "#### int float str"
   ]
  },
  {
   "cell_type": "code",
   "execution_count": 13,
   "metadata": {
    "collapsed": false
   },
   "outputs": [
    {
     "name": "stdout",
     "output_type": "stream",
     "text": [
      "<class 'int'>\n",
      "<class 'float'>\n",
      "<class 'str'>\n",
      "<class 'str'>\n"
     ]
    }
   ],
   "source": [
    "c = 1\n",
    "d = 2.0\n",
    "e = \"string\"\n",
    "f = 'string'\n",
    "\n",
    "print(type(c))\n",
    "print(type(d))\n",
    "print(type(e))\n",
    "print(type(f))"
   ]
  },
  {
   "cell_type": "markdown",
   "metadata": {},
   "source": [
    "## print( \" {} \".format() )\n",
    "#### format string\n",
    "#### %\n",
    "#### 整數 d\n",
    "#### 浮點數 e,E,f,F\n",
    "#### 16進位 x,X\n",
    "#### 字串 s"
   ]
  },
  {
   "cell_type": "code",
   "execution_count": 46,
   "metadata": {
    "collapsed": false
   },
   "outputs": [
    {
     "name": "stdout",
     "output_type": "stream",
     "text": [
      " string \n",
      " string1 \n",
      " string2 \n"
     ]
    }
   ],
   "source": [
    "print( \" {:s} \".format(\"string\") )\n",
    "print( \" {1:s} \".format(\"string0\",\"string1\") )\n",
    "print( \" {string} \".format(string=\"string2\") )"
   ]
  },
  {
   "cell_type": "markdown",
   "metadata": {},
   "source": [
    "### 特別\n",
    "#### 換行 \\n \n",
    "#### Tab \\t"
   ]
  },
  {
   "cell_type": "code",
   "execution_count": 40,
   "metadata": {
    "collapsed": false
   },
   "outputs": [
    {
     "name": "stdout",
     "output_type": "stream",
     "text": [
      "rxtcyvubiun \n",
      "fuwyebdinjm\n",
      "eywuydbqin \tfebiqnjdk\n",
      "\\\n",
      "'\n",
      "\"\n",
      "獢\n"
     ]
    }
   ],
   "source": [
    "print(\"rxtcyvubiun \\nfuwyebdinjm\")\n",
    "print(\"eywuydbqin \\tfebiqnjdk\")\n",
    "print(\"\\\\\")\n",
    "print(\"\\'\")\n",
    "print(\"\\\"\")\n",
    "print(\"\\u7362\")"
   ]
  },
  {
   "cell_type": "markdown",
   "metadata": {},
   "source": [
    "name = input(\"名字:\")"
   ]
  },
  {
   "cell_type": "code",
   "execution_count": 48,
   "metadata": {
    "collapsed": false
   },
   "outputs": [
    {
     "name": "stdout",
     "output_type": "stream",
     "text": [
      "名字:asdfghjkl\n",
      "asdfghjkl\n"
     ]
    }
   ],
   "source": [
    "name = input(\"名字:\")\n",
    "print(name)"
   ]
  }
 ],
 "metadata": {
  "kernelspec": {
   "display_name": "Python 3",
   "language": "python",
   "name": "python3"
  },
  "language_info": {
   "codemirror_mode": {
    "name": "ipython",
    "version": 3
   },
   "file_extension": ".py",
   "mimetype": "text/x-python",
   "name": "python",
   "nbconvert_exporter": "python",
   "pygments_lexer": "ipython3",
   "version": "3.6.0"
  }
 },
 "nbformat": 4,
 "nbformat_minor": 2
}
