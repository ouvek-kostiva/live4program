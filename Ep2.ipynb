{
 "cells": [
  {
   "cell_type": "markdown",
   "metadata": {},
   "source": [
    "## 其他輸出方法\n",
    "\n",
    "#### print(\" \", var )\n",
    "#### print(\" %d \" % var)"
   ]
  },
  {
   "cell_type": "code",
   "execution_count": 6,
   "metadata": {
    "collapsed": false
   },
   "outputs": [
    {
     "name": "stdout",
     "output_type": "stream",
     "text": [
      "數字: 1234\n",
      "數字: 1234\n"
     ]
    }
   ],
   "source": [
    "var = 1234\n",
    "print(\"數字:\", var)\n",
    "print(\"數字: %d\" % var)"
   ]
  },
  {
   "cell_type": "markdown",
   "metadata": {},
   "source": [
    "#### input 結果皆為 str"
   ]
  },
  {
   "cell_type": "code",
   "execution_count": 7,
   "metadata": {
    "collapsed": false
   },
   "outputs": [
    {
     "name": "stdout",
     "output_type": "stream",
     "text": [
      "輸入:1234\n",
      "<class 'str'>\n"
     ]
    }
   ],
   "source": [
    "inp = input(\"輸入:\")\n",
    "print(type(inp))"
   ]
  },
  {
   "cell_type": "markdown",
   "metadata": {},
   "source": [
    "### 轉換 Type\n",
    "#### str()\n",
    "#### int()\n",
    "#### float()"
   ]
  },
  {
   "cell_type": "code",
   "execution_count": 12,
   "metadata": {
    "collapsed": false
   },
   "outputs": [
    {
     "name": "stdout",
     "output_type": "stream",
     "text": [
      "<class 'str'>\n",
      "<class 'int'>\n",
      "<class 'float'>\n"
     ]
    }
   ],
   "source": [
    "var = 1234\n",
    "\n",
    "typ = str(var)\n",
    "print(type(typ))\n",
    "\n",
    "typ = int(var)\n",
    "print(type(typ))\n",
    "\n",
    "typ = float(var)\n",
    "print(type(typ))"
   ]
  },
  {
   "cell_type": "markdown",
   "metadata": {},
   "source": [
    "## 二進位表示法\n",
    "\n",
    "### int ... (2^9) (2^8) (2^7) (2^6) (2^5) (2^4) (2^3) (2^2) (2^1) (2^0)\n",
    "#### (2)000 = 0\n",
    "#### (2)001 = 1\n",
    "#### (2)010 = 2\n",
    "#### (2)011 = 3\n",
    "#### (2)100 = 4\n",
    "#### (2)101 = 5\n",
    "#### (2)110 = 6\n",
    "#### (2)111 = 7\n",
    "\n",
    "### float 在 Python 中等同其他語言 Double 雙精度表示法 (64位) (32位) 小數後16位\n",
    "#### 負正(1/0) 次方(次方數 + 127) 尾數 (2^-1) (2^-2) (2^-3) (2^-4) (2^-5) ..."
   ]
  },
  {
   "cell_type": "code",
   "execution_count": 22,
   "metadata": {
    "collapsed": false
   },
   "outputs": [
    {
     "name": "stdout",
     "output_type": "stream",
     "text": [
      "0.12345678901234568\n",
      "0.1 + 0.1 + 0.1 == 0.3  False\n"
     ]
    }
   ],
   "source": [
    "var = 0.12345678901234567890\n",
    "#     0.12345678901234568\n",
    "print(var)\n",
    "\n",
    "print(\"0.1 + 0.1 + 0.1 == 0.3 \", 0.1 + 0.1 + 0.1 == 0.3 )"
   ]
  },
  {
   "cell_type": "markdown",
   "metadata": {},
   "source": [
    "## list = []\n",
    "### Linked List 連結串列\n",
    "### Python 中沒有陣列 Array\n",
    "#### (值+下位) (值+下位) (值+下位)"
   ]
  },
  {
   "cell_type": "code",
   "execution_count": 24,
   "metadata": {
    "collapsed": false
   },
   "outputs": [
    {
     "name": "stdout",
     "output_type": "stream",
     "text": [
      "len(li): 3\n",
      "li[0]: a\n",
      "li[1]: 1\n",
      "li[2]: 2.0\n"
     ]
    },
    {
     "ename": "IndexError",
     "evalue": "list index out of range",
     "output_type": "error",
     "traceback": [
      "\u001b[0;31m---------------------------------------------------------------------------\u001b[0m",
      "\u001b[0;31mIndexError\u001b[0m                                Traceback (most recent call last)",
      "\u001b[0;32m<ipython-input-24-ca2813e378de>\u001b[0m in \u001b[0;36m<module>\u001b[0;34m()\u001b[0m\n\u001b[1;32m      5\u001b[0m \u001b[0mprint\u001b[0m\u001b[1;33m(\u001b[0m\u001b[1;34m\"li[1]:\"\u001b[0m\u001b[1;33m,\u001b[0m \u001b[0mli\u001b[0m\u001b[1;33m[\u001b[0m\u001b[1;36m1\u001b[0m\u001b[1;33m]\u001b[0m\u001b[1;33m)\u001b[0m\u001b[1;33m\u001b[0m\u001b[0m\n\u001b[1;32m      6\u001b[0m \u001b[0mprint\u001b[0m\u001b[1;33m(\u001b[0m\u001b[1;34m\"li[2]:\"\u001b[0m\u001b[1;33m,\u001b[0m \u001b[0mli\u001b[0m\u001b[1;33m[\u001b[0m\u001b[1;36m2\u001b[0m\u001b[1;33m]\u001b[0m\u001b[1;33m)\u001b[0m\u001b[1;33m\u001b[0m\u001b[0m\n\u001b[0;32m----> 7\u001b[0;31m \u001b[0mprint\u001b[0m\u001b[1;33m(\u001b[0m\u001b[1;34m\"li[3]:\"\u001b[0m\u001b[1;33m,\u001b[0m \u001b[0mli\u001b[0m\u001b[1;33m[\u001b[0m\u001b[1;36m3\u001b[0m\u001b[1;33m]\u001b[0m\u001b[1;33m)\u001b[0m\u001b[1;33m\u001b[0m\u001b[0m\n\u001b[0m",
      "\u001b[0;31mIndexError\u001b[0m: list index out of range"
     ]
    }
   ],
   "source": [
    "li = [\"a\" , 1 , 2.0]\n",
    "\n",
    "print(\"len(li):\", len(li)) #取 list 的長度\n",
    "print(\"li[0]:\", li[0])\n",
    "print(\"li[1]:\", li[1])\n",
    "print(\"li[2]:\", li[2])\n",
    "print(\"li[3]:\", li[3]) #超過"
   ]
  },
  {
   "cell_type": "markdown",
   "metadata": {},
   "source": [
    "## 程式中數字\"從零開始\" 0,1,2,3,4,5,6,7,8,9,10 ...\n",
    "\n",
    "## list.append 加物件到 list 後\n",
    "## list.insert 加物件到 list 中指定位置\n",
    "## list.pop() 從 list 最後移除物件\n",
    "## list.pop(位置號碼) 從 list 指定位置移除物件"
   ]
  },
  {
   "cell_type": "code",
   "execution_count": 69,
   "metadata": {
    "collapsed": false
   },
   "outputs": [
    {
     "name": "stdout",
     "output_type": "stream",
     "text": [
      "li: ['a', 1, 2.0, 'third']\n",
      "li: ['a', 'ins', 1, 2.0, 'third']\n",
      "li: ['a', 'ins', 1, 2.0]\n",
      "li: ['a', 1, 2.0]\n",
      "['a', 1, 2.0, [5, 'z', 9.0]]\n",
      "[5, 'z', 9.0]\n",
      "9.0\n"
     ]
    }
   ],
   "source": [
    "li = [\"a\" , 1 , 2.0]\n",
    "\n",
    "li.append(\"third\")\n",
    "print(\"li:\", li)\n",
    "\n",
    "li.insert(1, \"ins\")\n",
    "print(\"li:\", li)\n",
    "\n",
    "li.pop()\n",
    "print(\"li:\", li)\n",
    "\n",
    "li.pop(1)\n",
    "print(\"li:\", li)\n",
    "\n",
    "list2 = [5, \"z\", 9.0]\n",
    "li.append(list2)\n",
    "print(li)\n",
    "print(li[3])\n",
    "print(li[3][2])"
   ]
  },
  {
   "cell_type": "markdown",
   "metadata": {},
   "source": [
    "## list.sort() 將 list 由小排到大\n",
    "## list.sort(reverse=True) 將 list 由大排到小"
   ]
  },
  {
   "cell_type": "code",
   "execution_count": 36,
   "metadata": {
    "collapsed": false
   },
   "outputs": [
    {
     "name": "stdout",
     "output_type": "stream",
     "text": [
      "li: [1, 3, 2, 5, 4]\n",
      "li: [1, 2, 3, 4, 5]\n",
      "li: [5, 4, 3, 2, 1]\n"
     ]
    }
   ],
   "source": [
    "li = [1,3,2,5,4]\n",
    "print(\"li:\", li)\n",
    "\n",
    "li.sort()\n",
    "print(\"li:\", li)\n",
    "\n",
    "li.sort(reverse=True)\n",
    "print(\"li:\", li)"
   ]
  },
  {
   "cell_type": "markdown",
   "metadata": {},
   "source": [
    "## tuple = ()\n",
    "\n",
    "### 內容不可更改, 放固定值"
   ]
  },
  {
   "cell_type": "code",
   "execution_count": 38,
   "metadata": {
    "collapsed": false
   },
   "outputs": [
    {
     "name": "stdout",
     "output_type": "stream",
     "text": [
      "3.14\n",
      "Kaohsiung 1\n"
     ]
    }
   ],
   "source": [
    "t1 = ()\n",
    "\n",
    "t2 = (3.14,)\n",
    "print(t2[0])\n",
    "\n",
    "t3 = (\"Kaohsiung\", 1)\n",
    "print(t3[0], t3[1])"
   ]
  },
  {
   "cell_type": "markdown",
   "metadata": {},
   "source": [
    "## if: else:"
   ]
  },
  {
   "cell_type": "code",
   "execution_count": 47,
   "metadata": {
    "collapsed": false
   },
   "outputs": [
    {
     "name": "stdout",
     "output_type": "stream",
     "text": [
      "1:真\n",
      "2:假\n",
      "3:真\n",
      "4:其他\n",
      "1 < 2\n",
      "2 > 1\n",
      "two > one\n"
     ]
    }
   ],
   "source": [
    "if True:\n",
    "    print(\"1:真\")\n",
    "else:\n",
    "    print(\"1:假\")\n",
    "\n",
    "####################\n",
    "\n",
    "if False:\n",
    "    print(\"2:真\")\n",
    "else:\n",
    "    print(\"2:假\")\n",
    "    \n",
    "####################\n",
    "\n",
    "if True: #上面為真, 下面略過\n",
    "    print(\"3:真\")\n",
    "elif True:\n",
    "    print(\"3:其他\")\n",
    "else:\n",
    "    print(\"3:假\")\n",
    "    \n",
    "####################\n",
    "\n",
    "if False:\n",
    "    print(\"4:假\")\n",
    "elif True:\n",
    "    print(\"4:其他\")\n",
    "else:\n",
    "    print(\"4:真\")\n",
    "    \n",
    "####################\n",
    "\n",
    "if 1 < 2:\n",
    "    print(\"1 < 2\")\n",
    "elif 1 == 1:\n",
    "    print(\"1 == 1\")\n",
    "else:\n",
    "    print(\"1 > 2\")\n",
    "    \n",
    "####################\n",
    "\n",
    "if 2 < 1:\n",
    "    print(\"2 < 1\")\n",
    "else:\n",
    "    print(\"2 > 1\")\n",
    "    \n",
    "####################\n",
    "two = 2\n",
    "one = 1\n",
    "\n",
    "if two < one:\n",
    "    print(\"two < one\")\n",
    "else:\n",
    "    print(\"two > one\")"
   ]
  },
  {
   "cell_type": "markdown",
   "metadata": {},
   "source": [
    "## for:"
   ]
  },
  {
   "cell_type": "code",
   "execution_count": 55,
   "metadata": {
    "collapsed": false
   },
   "outputs": [
    {
     "name": "stdout",
     "output_type": "stream",
     "text": [
      "n: a\n",
      "n: b\n",
      "n: c\n",
      "['a', 'b', 'c']\n",
      "x: 1\n",
      "x: 2.0\n",
      "x: a\n",
      "range(0, 5)\n",
      "[0, 1, 2, 3, 4]\n",
      "0\n",
      "1\n",
      "2\n",
      "3\n",
      "4\n"
     ]
    }
   ],
   "source": [
    "names = [\"a\", \"b\", \"c\"]\n",
    "\n",
    "for n in names:\n",
    "    print(\"n:\",n)\n",
    "print(names)\n",
    "\n",
    "for x in [1,2.0,\"a\"]:\n",
    "    print(\"x:\",x)\n",
    "    \n",
    "ran = range(5)\n",
    "print(ran)\n",
    "\n",
    "ran = list(ran)\n",
    "print(ran)\n",
    "\n",
    "for i in range(5):\n",
    "    print(i) # 0,1,2,3,4"
   ]
  },
  {
   "cell_type": "markdown",
   "metadata": {},
   "source": [
    "## while\n",
    "\n",
    "#### str.strip() 清除字串前後空格"
   ]
  },
  {
   "cell_type": "code",
   "execution_count": 61,
   "metadata": {
    "collapsed": false
   },
   "outputs": [
    {
     "name": "stdout",
     "output_type": "stream",
     "text": [
      "321\n",
      "輸入 stop 停止:stop\n",
      "Stop!\n"
     ]
    }
   ],
   "source": [
    "i = 3\n",
    "while i > 0:\n",
    "    print(i, end=\"\") #避免出現換行\n",
    "    i = i - 1\n",
    "    \n",
    "print()\n",
    "while True:\n",
    "    n = input(\"輸入 stop 停止:\")\n",
    "    if n.strip() == \"stop\":\n",
    "        print(\"Stop!\")\n",
    "        break"
   ]
  },
  {
   "cell_type": "markdown",
   "metadata": {},
   "source": [
    "## dict 字典\n",
    "\n",
    "### dict = { \"key\" : \"value\" }\n",
    "### _key_ in dict\n",
    "### dict.get(key, if false)"
   ]
  },
  {
   "cell_type": "code",
   "execution_count": 79,
   "metadata": {
    "collapsed": false
   },
   "outputs": [
    {
     "name": "stdout",
     "output_type": "stream",
     "text": [
      "two\n",
      "1\n",
      "['a', 1, 2.0]\n",
      "a 1 2.0\n",
      "\"one\" in d: True\n",
      "\"z\" in d: False\n",
      "d.get(2): two\n",
      "d.get(\"three\"): None\n",
      "d.get(\"three\",-1): -1\n"
     ]
    }
   ],
   "source": [
    "list2 = [\"a\",1,2.0]\n",
    "d = {2 : \"two\", \"one\": 1, \"li\":list2}\n",
    "\n",
    "print(d[2])\n",
    "print(d[\"one\"])\n",
    "print(d[\"li\"])\n",
    "print(d[\"li\"][0], d[\"li\"][1], d[\"li\"][2])\n",
    "\n",
    "print(\"\\\"one\\\" in d:\", \"one\" in d )\n",
    "print(\"\\\"z\\\" in d:\", \"z\" in d )\n",
    "\n",
    "print(\"d.get(2):\",d.get(2))\n",
    "print(\"d.get(\\\"three\\\"):\",d.get(\"three\"))\n",
    "print(\"d.get(\\\"three\\\",-1):\",d.get(\"three\",-1))"
   ]
  }
 ],
 "metadata": {
  "kernelspec": {
   "display_name": "Python 3",
   "language": "python",
   "name": "python3"
  },
  "language_info": {
   "codemirror_mode": {
    "name": "ipython",
    "version": 3
   },
   "file_extension": ".py",
   "mimetype": "text/x-python",
   "name": "python",
   "nbconvert_exporter": "python",
   "pygments_lexer": "ipython3",
   "version": "3.6.0"
  }
 },
 "nbformat": 4,
 "nbformat_minor": 2
}
