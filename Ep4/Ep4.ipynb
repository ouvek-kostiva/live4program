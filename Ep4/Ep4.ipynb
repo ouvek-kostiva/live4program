{
 "cells": [
  {
   "cell_type": "markdown",
   "metadata": {},
   "source": [
    "# 利用 Google API 抓取資料"
   ]
  },
  {
   "cell_type": "markdown",
   "metadata": {},
   "source": [
    "## 1.取得上市股票代號\n",
    "\n",
    "### [上市上櫃下市股票列表SQLite資料庫](https://github.com/ouvek-kostiva/live4program/blob/master/Ep4/list.db)"
   ]
  },
  {
   "cell_type": "code",
   "execution_count": 2,
   "metadata": {
    "collapsed": false
   },
   "outputs": [
    {
     "name": "stdout",
     "output_type": "stream",
     "text": [
      "取得股票代號總數: 913\n",
      "['1101', '1102', '1103', '1104', '1108']\n"
     ]
    }
   ],
   "source": [
    "def getListedCode(typ=\"twse\",codeLength=4):\n",
    "    import sqlite3\n",
    "    sqlite_file = \"list.db\" #上市上櫃下市 股票代號列表 資料庫檔案\n",
    "    conn = sqlite3.connect(sqlite_file)\n",
    "    c = conn.cursor()\n",
    "    out = conn.execute(\"SELECT code, type FROM StockList WHERE type LIKE ? AND length(code) == ? \",(\"twse\",codeLength)) \n",
    "    # 取 代號4碼 類別上市 股票代號\n",
    "    codeList = []\n",
    "    for i, row in enumerate(out):\n",
    "        codeList.append(row[0])\n",
    "    conn.close()\n",
    "    print(\"取得股票代號總數:\", len(codeList)) #codeList 為取出股票代號列表\n",
    "    return codeList\n",
    "\n",
    "codeList = getListedCode(\"twse\",4) #取得上市股票代碼 twse, 長度4碼\n",
    "print(codeList[0:5])"
   ]
  },
  {
   "cell_type": "markdown",
   "metadata": {},
   "source": [
    "## 2.查詢 Google API\n",
    "\n",
    "#### q 股票代碼\n",
    "#### x 交易所 [代碼列表](https://www.google.com/googlefinance/disclaimer/)\n",
    "#### i 時間間隔(秒數)\n",
    "#### p 幾個時間單位\n",
    "#### f=d,c,h,l,o,v 取得那些欄位(日期, 收盤, 最高, 最低, 開盤, 交易量)"
   ]
  },
  {
   "cell_type": "code",
   "execution_count": 5,
   "metadata": {
    "collapsed": false
   },
   "outputs": [
    {
     "name": "stdout",
     "output_type": "stream",
     "text": [
      "write: 1101_3d.pkl\n",
      "1101_3d.pkl\n"
     ]
    }
   ],
   "source": [
    "def getGoogleData(stockCode, exchange=\"TPE\", interval=\"86400\", duration=\"10Y\"):\n",
    "    f = \"d,c,h,l,o,v\" # Fields : Columns > d,c,h,l,o,v = Date + ?, Close, High, Low, Open, Volume\n",
    "    import requests\n",
    "    import pickle\n",
    "    r = requests.get('https://www.google.com/finance/getprices?q={}&x={}&i={}&p={}&f={}'.format(stockCode,exchange,interval,duration,f))\n",
    "    output = open('Pickles/{}_{}.pkl'.format(stockCode,duration), 'wb')\n",
    "    print(\"write:\",\"{}_{}.pkl\".format(stockCode,duration))\n",
    "    lines = r.text.split('\\n')\n",
    "    pickle.dump(lines, output) #寫入 pickle\n",
    "    pklname = '{}_{}.pkl'.format(stockCode,duration)\n",
    "    return pklname\n",
    "\n",
    "code = '1101'\n",
    "pklname = getGoogleData(code, exchange=\"TPE\", interval=\"86400\", duration=\"3d\")\n",
    "print(pklname)"
   ]
  },
  {
   "cell_type": "markdown",
   "metadata": {},
   "source": [
    "## 3.讀取 Pickle 資料\n",
    "\n",
    "#### Python 中可將任意物件先以 Pickle 存好後再讀取使用"
   ]
  },
  {
   "cell_type": "code",
   "execution_count": 7,
   "metadata": {
    "collapsed": false
   },
   "outputs": [
    {
     "name": "stdout",
     "output_type": "stream",
     "text": [
      "Pickled File  1101_3d  Loaded\n",
      "EXCHANGE%3DTPE\n",
      "MARKET_OPEN_MINUTE=540\n",
      "MARKET_CLOSE_MINUTE=810\n",
      "INTERVAL=86400\n",
      "COLUMNS=DATE,CLOSE,HIGH,LOW,OPEN,VOLUME\n",
      "DATA=\n",
      "TIMEZONE_OFFSET=480\n",
      "a1496295000,34.35,34.6,34.35,34.4,4060000\n",
      "1,34.6,34.7,34.4,34.4,3264000\n",
      "\n"
     ]
    }
   ],
   "source": [
    "def readPickledData(fileName):\n",
    "    import os\n",
    "    import pickle\n",
    "    if os.path.isfile('Pickles/{}.pkl'.format(fileName)):\n",
    "        pkl_file = open('Pickles/{}.pkl'.format(fileName), 'rb')\n",
    "        lines = pickle.load(pkl_file)\n",
    "        print(\"Pickled File \", fileName, \" Loaded\")\n",
    "        return lines\n",
    "    else:\n",
    "        print(\"Filename should be like: code_duration, ex:1101_10Y\")\n",
    "        \n",
    "fileName = '1101_3d'\n",
    "lines = readPickledData(fileName)\n",
    "\n",
    "for item in lines:\n",
    "    print(item)"
   ]
  },
  {
   "cell_type": "markdown",
   "metadata": {},
   "source": [
    "## 4.建立新資料庫\n",
    "\n",
    "#### 欄位: indexColumn 主鍵, code 股票代號, date 日期, close 收盤價, low 最低價, open 開盤價, volume 交易量\n",
    "#### [其他資料庫教學](http://tw.gitbook.net/sqlite/sqlite_create_table.html)"
   ]
  },
  {
   "cell_type": "code",
   "execution_count": 8,
   "metadata": {
    "collapsed": false
   },
   "outputs": [
    {
     "data": {
      "text/plain": [
       "('Database', 'PriceVolData.db', ' Successfully Created!')"
      ]
     },
     "execution_count": 8,
     "metadata": {},
     "output_type": "execute_result"
    }
   ],
   "source": [
    "def createDatabase(dbName,tableName):\n",
    "    import os\n",
    "    if os.path.isfile(dbName):\n",
    "        return \"Database name already exists: \", dbName\n",
    "    else:    \n",
    "        import sqlite3\n",
    "        sqlite_file = dbName\n",
    "        conn = sqlite3.connect(sqlite_file)\n",
    "        c = conn.cursor()\n",
    "        c.execute('CREATE TABLE {tn} (indexColumn INTEGER PRIMARY KEY, code TEXT NOT NULL, date TEXT NOT NULL, close REAL, high REAL, low REAL, open REAL, volume REAL)'.format(tn=tableName)) \n",
    "        conn.commit()\n",
    "        conn.close()\n",
    "        return \"Database\",dbName,\" Successfully Created!\"\n",
    "    \n",
    "dbName = \"PriceVolData.db\"\n",
    "tableName = \"twse\"\n",
    "createDatabase(dbName,tableName)"
   ]
  },
  {
   "cell_type": "markdown",
   "metadata": {},
   "source": [
    "### 如同名資料庫或資料表存在"
   ]
  },
  {
   "cell_type": "code",
   "execution_count": 9,
   "metadata": {
    "collapsed": false
   },
   "outputs": [
    {
     "data": {
      "text/plain": [
       "('Database name already exists: ', 'PriceVolData.db')"
      ]
     },
     "execution_count": 9,
     "metadata": {},
     "output_type": "execute_result"
    }
   ],
   "source": [
    "dbName = \"PriceVolData.db\"\n",
    "tableName = \"twse\"\n",
    "createDatabase(dbName,tableName)"
   ]
  },
  {
   "cell_type": "markdown",
   "metadata": {},
   "source": [
    "## 5.整理將從 API 取得的資料"
   ]
  },
  {
   "cell_type": "code",
   "execution_count": 11,
   "metadata": {
    "collapsed": false
   },
   "outputs": [
    {
     "name": "stdout",
     "output_type": "stream",
     "text": [
      "Pickled File  1101_3d  Loaded\n",
      "初始: ['EXCHANGE%3DTPE', 'MARKET_OPEN_MINUTE=540', 'MARKET_CLOSE_MINUTE=810', 'INTERVAL=86400', 'COLUMNS=DATE,CLOSE,HIGH,LOW,OPEN,VOLUME', 'DATA=', 'TIMEZONE_OFFSET=480', 'a1496295000,34.35,34.6,34.35,34.4,4060000', '1,34.6,34.7,34.4,34.4,3264000', '']\n",
      "刪除前面資料: ['a1496295000,34.35,34.6,34.35,34.4,4060000', '1,34.6,34.7,34.4,34.4,3264000', '']\n",
      "分開欄位: ['a1496295000', '34.35', '34.6', '34.35', '34.4', '4060000']\n",
      "1496295000\n",
      "Unix時間: 2017-06-01 13:30:00\n",
      "分開欄位: ['1', '34.6', '34.7', '34.4', '34.4', '3264000']\n",
      "Unix時間後增加天數: 1\n",
      "後續時間: 2017-06-02 13:30:00\n",
      "日期, 收盤, 最高, 最低, 開盤, 交易量 34.6 34.7 34.4 34.4 3264000\n",
      "dataList: [['2017-06-02 13:30:00', '34.6', '34.7', '34.4', '34.4', '3264000']]\n",
      "整理結果: [['2017-06-02 13:30:00', '34.6', '34.7', '34.4', '34.4', '3264000']]\n"
     ]
    }
   ],
   "source": [
    "def toDataList(fileName):\n",
    "    import datetime as dt\n",
    "    lines = readPickledData(fileName)\n",
    "    print(\"初始:\",lines) #非教學時請刪除此輸出行\n",
    "    del lines[0:7]\n",
    "    print(\"刪除前面資料:\",lines) #非教學時請刪除此輸出行\n",
    "    dataList = []\n",
    "    dtDate = 0;\n",
    "    for ind,lin in enumerate(lines[:-1]):\n",
    "        spl = lin.split(\",\")\n",
    "        print(\"分開欄位:\",spl) #非教學時請刪除此輸出行\n",
    "        if spl[0][0] == 'a':\n",
    "            print(spl[0][1:])\n",
    "            actDate = dt.datetime.fromtimestamp(int(spl[0][1:])).strftime('%Y-%m-%d %H:%M:%S')\n",
    "            print(\"Unix時間:\",actDate) #非教學時請刪除此輸出行\n",
    "            dtDate = dt.datetime.strptime(actDate, '%Y-%m-%d %H:%M:%S')\n",
    "        else:\n",
    "            add = int(spl[0])\n",
    "            print(\"Unix時間後增加天數:\",add) #非教學時請刪除此輸出行\n",
    "            newDate = dtDate + dt.timedelta(days=add)\n",
    "            print(\"後續時間:\",newDate) #非教學時請刪除此輸出行\n",
    "            fDate = newDate.strftime('%Y-%m-%d %H:%M:%S') #fDate 日期字串\n",
    "            close = spl[1]\n",
    "            high = spl[2]\n",
    "            low = spl[3]\n",
    "            ope = spl[4]\n",
    "            vol = spl[5]\n",
    "            print(\"日期, 收盤, 最高, 最低, 開盤, 交易量\",spl[1],spl[2],spl[3],spl[4],spl[5]) #非教學時請刪除此輸出行\n",
    "            dataList.append([fDate, close, high, low, ope, vol])\n",
    "            print(\"dataList:\",dataList) #非教學時請刪除此輸出行\n",
    "    return dataList\n",
    "\n",
    "fileName = '1101_3d'\n",
    "dataList = toDataList(\"{}\".format(fileName))\n",
    "print(\"整理結果:\",dataList)"
   ]
  },
  {
   "cell_type": "markdown",
   "metadata": {},
   "source": [
    "## 5.資料輸入資料庫"
   ]
  },
  {
   "cell_type": "code",
   "execution_count": 13,
   "metadata": {
    "collapsed": false
   },
   "outputs": [
    {
     "name": "stdout",
     "output_type": "stream",
     "text": [
      "['2017-06-02 13:30:00', '34.6', '34.7', '34.4', '34.4', '3264000']\n",
      "輸入筆數: 1\n"
     ]
    }
   ],
   "source": [
    "def insertData(dbName, tableName, dataList, stockCode):\n",
    "    import sqlite3\n",
    "    conn = sqlite3.connect(dbName)\n",
    "    c = conn.cursor()\n",
    "    count = 0\n",
    "    for date, close, high, low, ope, vol in dataList:\n",
    "        conn.execute(\"INSERT INTO twse (code, date, close, high, low, open, volume) VALUES (?,?,?,?,?,?,?)\",(stockCode, date, close, high, low, ope, vol))\n",
    "        count = count + 1\n",
    "    conn.commit()\n",
    "    conn.close()\n",
    "    return count\n",
    "\n",
    "dbName = \"PriceVolData.db\"\n",
    "tableName = \"twse\"\n",
    "code = '1101'\n",
    "for item in dataList:\n",
    "    print(item)\n",
    "count = insertData(dbName, tableName, dataList, code)\n",
    "print(\"輸入筆數:\",count)"
   ]
  },
  {
   "cell_type": "markdown",
   "metadata": {},
   "source": [
    "## 6.資料從資料庫讀取"
   ]
  },
  {
   "cell_type": "code",
   "execution_count": 16,
   "metadata": {
    "collapsed": false,
    "scrolled": true
   },
   "outputs": [
    {
     "name": "stdout",
     "output_type": "stream",
     "text": [
      "[(1, '1101', '2017-06-02 13:30:00', 34.6, 34.7, 34.4, 34.4, 3264000.0)]\n",
      "[(2, '1101', '2017-06-02 13:30:00', 34.6, 34.7, 34.4, 34.4, 3264000.0)]\n"
     ]
    }
   ],
   "source": [
    "import sqlite3\n",
    "dbName = \"PriceVolData.db\"\n",
    "tableName = \"twse\"\n",
    "conn = sqlite3.connect(dbName)\n",
    "c = conn.cursor()\n",
    "\n",
    "out = conn.execute(\"SELECT * FROM twse\")\n",
    "\n",
    "dalist = []\n",
    "for i in out:\n",
    "    dalist.append([i])\n",
    "    \n",
    "conn.close()\n",
    "\n",
    "for item in dalist:\n",
    "    print(item)"
   ]
  }
 ],
 "metadata": {
  "kernelspec": {
   "display_name": "Python 3",
   "language": "python",
   "name": "python3"
  },
  "language_info": {
   "codemirror_mode": {
    "name": "ipython",
    "version": 3
   },
   "file_extension": ".py",
   "mimetype": "text/x-python",
   "name": "python",
   "nbconvert_exporter": "python",
   "pygments_lexer": "ipython3",
   "version": "3.6.0"
  }
 },
 "nbformat": 4,
 "nbformat_minor": 2
}
